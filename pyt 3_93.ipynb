{
 "cells": [
  {
   "cell_type": "code",
   "execution_count": 1,
   "id": "34b17063",
   "metadata": {},
   "outputs": [
    {
     "name": "stdout",
     "output_type": "stream",
     "text": [
      "enter ur name:gan\n",
      "wellcome gan\n"
     ]
    }
   ],
   "source": [
    "name=input(\"enter ur name:\")\n",
    "print(\"wellcome\",name)"
   ]
  },
  {
   "cell_type": "code",
   "execution_count": 2,
   "id": "aa081dd6",
   "metadata": {},
   "outputs": [
    {
     "name": "stdout",
     "output_type": "stream",
     "text": [
      "enter value of a2\n",
      "enter value of b3\n",
      "23\n"
     ]
    }
   ],
   "source": [
    "a=input(\"enter value of a\")\n",
    "b=input(\"enter value of b\")\n",
    "print(a+b)"
   ]
  },
  {
   "cell_type": "code",
   "execution_count": 9,
   "id": "bf58dac4",
   "metadata": {},
   "outputs": [
    {
     "name": "stdout",
     "output_type": "stream",
     "text": [
      "enter value of a:2\n",
      "enter value of b:3\n",
      "5\n"
     ]
    }
   ],
   "source": [
    "a=int (input(\"enter value of a:\"))\n",
    "b=int(input(\"enter value of b:\"))\n",
    "print(a+b)"
   ]
  },
  {
   "cell_type": "code",
   "execution_count": 10,
   "id": "cd63de51",
   "metadata": {},
   "outputs": [
    {
     "name": "stdout",
     "output_type": "stream",
     "text": [
      "what is your passion?game developer\n",
      "(0) is my passion game developer\n"
     ]
    }
   ],
   "source": [
    "passion=input(\"what is your passion?\")\n",
    "print(\"(0) is my passion\",format(passion))"
   ]
  },
  {
   "cell_type": "code",
   "execution_count": 15,
   "id": "c30e18f3",
   "metadata": {},
   "outputs": [
    {
     "name": "stdout",
     "output_type": "stream",
     "text": [
      "rnter ur name;gan\n",
      "enter ue roll no:93\n",
      "i am gan and my roll no is 93\n"
     ]
    }
   ],
   "source": [
    "name=input(\"rnter ur name;\")\n",
    "roll_no=input(\"enter ue roll no:\")\n",
    "print(\"i am {0} and my roll no is {1}\".format(name,roll_no))"
   ]
  },
  {
   "cell_type": "code",
   "execution_count": 20,
   "id": "218bbce6",
   "metadata": {},
   "outputs": [
    {
     "name": "stdout",
     "output_type": "stream",
     "text": [
      "the values of a is 10 and b is 20\n",
      "the values of b is 20 and a is 10\n"
     ]
    }
   ],
   "source": [
    "a=10\n",
    "b=20\n",
    "print(\"the values of a is {0} and b is {1}\". format(a,b))\n",
    "print(\"the values of b is {1} and a is {0}\".format(a,b))"
   ]
  },
  {
   "cell_type": "code",
   "execution_count": 25,
   "id": "d002eee2",
   "metadata": {},
   "outputs": [
    {
     "name": "stdout",
     "output_type": "stream",
     "text": [
      "you can do the imposible.never ever give up\n"
     ]
    }
   ],
   "source": [
    "print(\"you can do the {a}.{b}\".\n",
    "     format(a=\"imposible\",b=\"never ever give up\"))"
   ]
  },
  {
   "cell_type": "code",
   "execution_count": 28,
   "id": "426b30d0",
   "metadata": {},
   "outputs": [
    {
     "name": "stdout",
     "output_type": "stream",
     "text": [
      "addition of 20 and 30 is 50\n"
     ]
    }
   ],
   "source": [
    "a=20\n",
    "b=30\n",
    "print(f\"addition of {a} and {b} is {a+b}\")"
   ]
  },
  {
   "cell_type": "code",
   "execution_count": 29,
   "id": "bc8adb00",
   "metadata": {},
   "outputs": [
    {
     "ename": "SyntaxError",
     "evalue": "unterminated string literal (detected at line 4) (2726882978.py, line 4)",
     "output_type": "error",
     "traceback": [
      "\u001b[1;36m  Cell \u001b[1;32mIn[29], line 4\u001b[1;36m\u001b[0m\n\u001b[1;33m    print(f\"the area of circle is {area_of})\u001b[0m\n\u001b[1;37m          ^\u001b[0m\n\u001b[1;31mSyntaxError\u001b[0m\u001b[1;31m:\u001b[0m unterminated string literal (detected at line 4)\n"
     ]
    }
   ],
   "source": [
    "radius=int(input(\"enter the radius of circle\"))\n",
    "area_of_circle=3.14115*radius*radius\n",
    "circumferenace=2*3.14115*radius\n",
    "print(f\"the area of circle is {area_of_circle})"
   ]
  },
  {
   "cell_type": "code",
   "execution_count": 32,
   "id": "e35be88e",
   "metadata": {},
   "outputs": [
    {
     "name": "stdout",
     "output_type": "stream",
     "text": [
      "enter your birth year:2006\n",
      "your age 19 years old\n"
     ]
    }
   ],
   "source": [
    "birth_year=int(input(\"enter your birth year:\"))\n",
    "current_year=2025\n",
    "age=current_year-birth_year\n",
    "print(f\"your age {age} years old\")\n"
   ]
  },
  {
   "cell_type": "code",
   "execution_count": 35,
   "id": "3a1ea7ac",
   "metadata": {},
   "outputs": [
    {
     "ename": "IndentationError",
     "evalue": "expected an indented block after 'if' statement on line 2 (3264120007.py, line 3)",
     "output_type": "error",
     "traceback": [
      "\u001b[1;36m  Cell \u001b[1;32mIn[35], line 3\u001b[1;36m\u001b[0m\n\u001b[1;33m    print(\"topper\")\u001b[0m\n\u001b[1;37m    ^\u001b[0m\n\u001b[1;31mIndentationError\u001b[0m\u001b[1;31m:\u001b[0m expected an indented block after 'if' statement on line 2\n"
     ]
    }
   ],
   "source": [
    "cgpa=float(input(\"enter ur cgpa:\"))\n",
    "if cgpa>9.2:\n",
    "print(\"topper\")\n",
    "elif cgpa>8 and cgpa<9.2:\n",
    "    print(\"good in academics\")\n",
    "    else:\n",
    "        print(\"work hard\")"
   ]
  },
  {
   "cell_type": "code",
   "execution_count": 36,
   "id": "9246f48f",
   "metadata": {},
   "outputs": [
    {
     "name": "stdout",
     "output_type": "stream",
     "text": [
      "enter total marks :\n"
     ]
    },
    {
     "ename": "ValueError",
     "evalue": "invalid literal for int() with base 10: ''",
     "output_type": "error",
     "traceback": [
      "\u001b[1;31m---------------------------------------------------------------------------\u001b[0m",
      "\u001b[1;31mValueError\u001b[0m                                Traceback (most recent call last)",
      "Cell \u001b[1;32mIn[36], line 1\u001b[0m\n\u001b[1;32m----> 1\u001b[0m total_marks\u001b[38;5;241m=\u001b[39m\u001b[38;5;28mint\u001b[39m(\u001b[38;5;28minput\u001b[39m(\u001b[38;5;124m\"\u001b[39m\u001b[38;5;124menter total marks :\u001b[39m\u001b[38;5;124m\"\u001b[39m))\n\u001b[0;32m      2\u001b[0m marks_obtained\u001b[38;5;241m=\u001b[39m\u001b[38;5;28mint\u001b[39m\n",
      "\u001b[1;31mValueError\u001b[0m: invalid literal for int() with base 10: ''"
     ]
    }
   ],
   "source": [
    "total_marks=int(input(\"enter total marks :\"))\n",
    "marks_obtained=int(input(\"enter the marks obtained\"))\n",
    "\n",
    "persentage=(marks_obtained/total_marks)*100\n",
    "whole_persentage=int(presentage)\n",
    "\n",
    "\n",
    "print"
   ]
  },
  {
   "cell_type": "code",
   "execution_count": 37,
   "id": "9551d7a2",
   "metadata": {},
   "outputs": [
    {
     "ename": "TypeError",
     "evalue": "can only concatenate str (not \"int\") to str",
     "output_type": "error",
     "traceback": [
      "\u001b[1;31m---------------------------------------------------------------------------\u001b[0m",
      "\u001b[1;31mTypeError\u001b[0m                                 Traceback (most recent call last)",
      "Cell \u001b[1;32mIn[37], line 2\u001b[0m\n\u001b[0;32m      1\u001b[0m age\u001b[38;5;241m=\u001b[39m\u001b[38;5;241m25\u001b[39m\n\u001b[1;32m----> 2\u001b[0m \u001b[38;5;28mprint\u001b[39m(\u001b[38;5;124m\"\u001b[39m\u001b[38;5;124mi am \u001b[39m\u001b[38;5;124m\"\u001b[39m\u001b[38;5;241m+\u001b[39mage\u001b[38;5;241m+\u001b[39m\u001b[38;5;124m\"\u001b[39m\u001b[38;5;124m years old\u001b[39m\u001b[38;5;124m\"\u001b[39m )\n",
      "\u001b[1;31mTypeError\u001b[0m: can only concatenate str (not \"int\") to str"
     ]
    }
   ],
   "source": [
    "age=25\n",
    "print(\"i am \"+age+\" years old\" )\n"
   ]
  },
  {
   "cell_type": "code",
   "execution_count": 42,
   "id": "4cffee30",
   "metadata": {},
   "outputs": [
    {
     "name": "stdout",
     "output_type": "stream",
     "text": [
      "i am 25 years old\n"
     ]
    }
   ],
   "source": [
    "age=25\n",
    "print(\"i am \"+str(age)+\" years old\" )"
   ]
  },
  {
   "cell_type": "code",
   "execution_count": 44,
   "id": "ac728a63",
   "metadata": {},
   "outputs": [
    {
     "name": "stdout",
     "output_type": "stream",
     "text": [
      "enter an integer btw 0 and 255: 65\n",
      "The ASCTI character for 65 is :A\n"
     ]
    }
   ],
   "source": [
    "num=int(input(\"enter an integer btw 0 and 255: \"))\n",
    "char=chr(num)\n",
    "print(f\"The ASCTI character for {num} is :{char}\")\n"
   ]
  },
  {
   "cell_type": "code",
   "execution_count": 45,
   "id": "46ca9595",
   "metadata": {},
   "outputs": [
    {
     "name": "stdout",
     "output_type": "stream",
     "text": [
      "complex number (real+imge): (1+4j)\n"
     ]
    }
   ],
   "source": [
    "c1=complex(1,4)\n",
    "print(\"complex number (real+imge):\",c1)\n"
   ]
  },
  {
   "cell_type": "code",
   "execution_count": null,
   "id": "33b304d4",
   "metadata": {},
   "outputs": [],
   "source": []
  },
  {
   "cell_type": "code",
   "execution_count": null,
   "id": "cc961e89",
   "metadata": {},
   "outputs": [],
   "source": []
  },
  {
   "cell_type": "code",
   "execution_count": null,
   "id": "8a0a1ed1",
   "metadata": {},
   "outputs": [],
   "source": []
  }
 ],
 "metadata": {
  "kernelspec": {
   "display_name": "Python 3 (ipykernel)",
   "language": "python",
   "name": "python3"
  },
  "language_info": {
   "codemirror_mode": {
    "name": "ipython",
    "version": 3
   },
   "file_extension": ".py",
   "mimetype": "text/x-python",
   "name": "python",
   "nbconvert_exporter": "python",
   "pygments_lexer": "ipython3",
   "version": "3.11.4"
  }
 },
 "nbformat": 4,
 "nbformat_minor": 5
}
