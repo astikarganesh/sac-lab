{
 "cells": [
  {
   "cell_type": "code",
   "execution_count": 2,
   "id": "de81acc0",
   "metadata": {},
   "outputs": [
    {
     "name": "stdout",
     "output_type": "stream",
     "text": [
      "my name is poojitha\n"
     ]
    }
   ],
   "source": [
    "print(\"my name is poojitha\")"
   ]
  },
  {
   "cell_type": "code",
   "execution_count": 3,
   "id": "6ec03eef",
   "metadata": {},
   "outputs": [
    {
     "name": "stdout",
     "output_type": "stream",
     "text": [
      "my father name is masaiah\n"
     ]
    }
   ],
   "source": [
    "print(\"my father name is masaiah\")"
   ]
  },
  {
   "cell_type": "code",
   "execution_count": 4,
   "id": "c4f8090e",
   "metadata": {},
   "outputs": [
    {
     "name": "stdout",
     "output_type": "stream",
     "text": [
      "my mother name is renuka\n"
     ]
    }
   ],
   "source": [
    "print(\"my mother name is renuka\")"
   ]
  },
  {
   "cell_type": "code",
   "execution_count": 5,
   "id": "ce2ae696",
   "metadata": {},
   "outputs": [
    {
     "name": "stdout",
     "output_type": "stream",
     "text": [
      "my hobbies are\n"
     ]
    }
   ],
   "source": [
    "print(\"my hobbies are\")"
   ]
  },
  {
   "cell_type": "code",
   "execution_count": 6,
   "id": "d1a04c21",
   "metadata": {},
   "outputs": [],
   "source": [
    "#COMMENTS LINE\n",
    "#\n",
    "#escape sequence char\n",
    "#\\n\n",
    "#\\t"
   ]
  },
  {
   "cell_type": "code",
   "execution_count": 7,
   "id": "2b3f8b16",
   "metadata": {},
   "outputs": [
    {
     "name": "stdout",
     "output_type": "stream",
     "text": [
      "name\t,\n",
      "ai\n"
     ]
    }
   ],
   "source": [
    "print(\"name\\t,\\nai\")"
   ]
  },
  {
   "cell_type": "code",
   "execution_count": 8,
   "id": "ecf81b8c",
   "metadata": {},
   "outputs": [
    {
     "name": "stdout",
     "output_type": "stream",
     "text": [
      "enter you namepoojitha\n",
      "poojitha\n"
     ]
    }
   ],
   "source": [
    "#print(\"constant\")\n",
    "#input()\n",
    "n=input(\"enter you name\")\n",
    "print(n)"
   ]
  },
  {
   "cell_type": "code",
   "execution_count": 9,
   "id": "b1c89599",
   "metadata": {},
   "outputs": [
    {
     "name": "stdout",
     "output_type": "stream",
     "text": [
      "enter your name\tpoojitha\n",
      "my name is poojitha\n"
     ]
    }
   ],
   "source": [
    "name=input(\"enter your name\\t\")   \n",
    "print(\"my name is\",name)"
   ]
  },
  {
   "cell_type": "code",
   "execution_count": 10,
   "id": "4844710c",
   "metadata": {},
   "outputs": [
    {
     "name": "stdout",
     "output_type": "stream",
     "text": [
      "entur your name\tpoojitha\n",
      "enteryour age\t18\n",
      "enter your qulaifications\t12\n",
      "enter your place\thyderabad\n",
      "my bio data\n",
      "\n",
      "\n",
      " my name is\t poojitha\n",
      "\n",
      " my age is\t 18\n",
      "\n",
      " my qulaifiaction\t 12\n",
      "\n",
      " my place is\t hyderabad\n"
     ]
    }
   ],
   "source": [
    "n=input(\"enter your name\\t\")\n",
    "a=input(\"enter your age\\t\")\n",
    "b=input(\"enter your qulaifications\\t\")\n",
    "c=input(\"enter your place\\t\")\n",
    "print(\"my bio data\\n\")\n",
    "print(\"\\n my name is\\t\",n)\n",
    "print(\"\\n my age is\\t\",a)\n",
    "print(\"\\n my qulaifiaction\\t\",b)\n",
    "print(\"\\n my place is\\t\",c)"
   ]
  },
  {
   "cell_type": "code",
   "execution_count": 11,
   "id": "ad54a334",
   "metadata": {},
   "outputs": [
    {
     "name": "stdout",
     "output_type": "stream",
     "text": [
      "enter your namepoojitha\n",
      "enter your name=poojitha\n"
     ]
    }
   ],
   "source": [
    "#.format()\n",
    "a=input(\"enter your name\")\n",
    "#printf(\"enter your name=%s\",a);\n",
    "print(\"enter your name={}\".format(a))"
   ]
  },
  {
   "cell_type": "code",
   "execution_count": null,
   "id": "3fcae623",
   "metadata": {},
   "outputs": [],
   "source": []
  }
 ],
 "metadata": {
  "kernelspec": {
   "display_name": "Python 3 (ipykernel)",
   "language": "python",
   "name": "python3"
  },
  "language_info": {
   "codemirror_mode": {
    "name": "ipython",
    "version": 3
   },
   "file_extension": ".py",
   "mimetype": "text/x-python",
   "name": "python",
   "nbconvert_exporter": "python",
   "pygments_lexer": "ipython3",
   "version": "3.11.4"
  }
 },
 "nbformat": 4,
 "nbformat_minor": 5
}
